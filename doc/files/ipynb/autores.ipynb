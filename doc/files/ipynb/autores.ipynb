{
 "metadata": {
  "language_info": {
   "codemirror_mode": {
    "name": "ipython",
    "version": 3
   },
   "file_extension": ".py",
   "mimetype": "text/x-python",
   "name": "python",
   "nbconvert_exporter": "python",
   "pygments_lexer": "ipython3",
   "version": "3.9.4"
  },
  "orig_nbformat": 2,
  "kernelspec": {
   "name": "python394jvsc74a57bd0f46cec7833364fb33bd98b3a78cbeaaf52ff51af6073d77534eab14fca30c25e",
   "display_name": "Python 3.9.4 64-bit"
  }
 },
 "nbformat": 4,
 "nbformat_minor": 2,
 "cells": [
  {
   "cell_type": "code",
   "execution_count": 36,
   "metadata": {},
   "outputs": [],
   "source": [
    "import pandas as pd"
   ]
  },
  {
   "source": [
    "Aqui você deverá inserir o nome da sua planilha e sua extensão;\n",
    "\n",
    "Exemplo: Caso você possua uma planilha com o nome `'minha_planilha_de_dados.xlsx` o código deverá ficar:\n",
    "\n",
    "> `pasta = pd.read_excel('minha_planilha_de_dados')`\n",
    "\n",
    "Em caso de arquivos `.csv` você deverá trocar `read_excel` por `read_csv`\n",
    "\n",
    "Exemplo: > `pasta = pd.read_csv('planilha.csv')`"
   ],
   "cell_type": "markdown",
   "metadata": {}
  },
  {
   "cell_type": "code",
   "execution_count": 37,
   "metadata": {},
   "outputs": [],
   "source": [
    "pasta = pd.read_excel('planilha.xlsx') # Faça a alteração com base na instrução "
   ]
  },
  {
   "source": [
    "Aqui você deverá trocar o campo `'Autoria'` pelo título da coluna que contém os autores em sua planilha;\n",
    "\n",
    "Exemplo: Caso você possua uma planilha em que a coluna que possui os autores possui o nome de `'coluna_de_autores'` o código deverá ficar:\n",
    "\n",
    "> `autores = pasta['coluna_de_autores'].dropna().drop_duplicates()`"
   ],
   "cell_type": "markdown",
   "metadata": {}
  },
  {
   "cell_type": "code",
   "execution_count": 38,
   "metadata": {},
   "outputs": [],
   "source": [
    "autores = pasta['Autoria'].str.upper() # Faça a alteração com base na instrução \n",
    "autores.dropna(inplace=True)\n",
    "autores.drop_duplicates(inplace=True)"
   ]
  },
  {
   "cell_type": "code",
   "execution_count": 39,
   "metadata": {
    "tags": []
   },
   "outputs": [],
   "source": [
    "lista = []\n",
    "for autor in autores.tolist():\n",
    "    valores = []\n",
    "    autor = str(autor)\n",
    "    valores = autor.split(\";\")\n",
    "    for index in valores:\n",
    "        lista.append(index.strip())"
   ]
  },
  {
   "cell_type": "code",
   "execution_count": 40,
   "metadata": {},
   "outputs": [],
   "source": [
    "colunaAutores = pd.Series(lista)\n",
    "planilhAutores = colunaAutores.to_frame()"
   ]
  },
  {
   "cell_type": "code",
   "execution_count": 41,
   "metadata": {},
   "outputs": [],
   "source": [
    "planilhAutores['Label'] = planilhAutores\n",
    "planilhAutores = planilhAutores.drop(planilhAutores.columns[0], axis=1)\n",
    "planilhAutores.drop_duplicates(inplace=True)"
   ]
  },
  {
   "cell_type": "code",
   "execution_count": 42,
   "metadata": {},
   "outputs": [],
   "source": [
    "planilhAutores.to_excel(\"autores.xlsx\")"
   ]
  }
 ]
}