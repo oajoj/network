{
 "metadata": {
  "language_info": {
   "codemirror_mode": {
    "name": "ipython",
    "version": 3
   },
   "file_extension": ".py",
   "mimetype": "text/x-python",
   "name": "python",
   "nbconvert_exporter": "python",
   "pygments_lexer": "ipython3",
   "version": "3.9.4"
  },
  "orig_nbformat": 2,
  "kernelspec": {
   "name": "python394jvsc74a57bd0f46cec7833364fb33bd98b3a78cbeaaf52ff51af6073d77534eab14fca30c25e",
   "display_name": "Python 3.9.4 64-bit"
  }
 },
 "nbformat": 4,
 "nbformat_minor": 2,
 "cells": [
  {
   "source": [
    "## Relação de autores de uma planilha\n"
   ],
   "cell_type": "markdown",
   "metadata": {}
  },
  {
   "cell_type": "code",
   "execution_count": 26,
   "metadata": {},
   "outputs": [],
   "source": [
    "# Importação Pandas\n",
    "import pandas as pd"
   ]
  },
  {
   "source": [
    "Altere `'planilha.xsls'` para o nome da sua planilha que contenha os autores; <br>\n",
    "Obs: Este script apenas funciona planilhas que contenham uma coluna que possua vários autores por linha dividos por algum tipo de separador, por exemplo:\n",
    "\n",
    "| Autoria                        | Título               | .... <br>\n",
    "| Autor1; Autor2; Autor3; Autor4 | Produção de produtos | .... \n",
    "\n",
    "O código deverá ficar:\n",
    "> `pasta = pd.read_excel('nome_da_sua_planilha.xlsx')`\n",
    "\n",
    "Na próxima linha <br>\n",
    "`autores_unicos = pd.read_excel('autores.xlsx')` receberá a planilha gerada pelo script anterior `(Autores.ipynb)`"
   ],
   "cell_type": "markdown",
   "metadata": {}
  },
  {
   "source": [],
   "cell_type": "markdown",
   "metadata": {}
  },
  {
   "cell_type": "code",
   "execution_count": 20,
   "metadata": {},
   "outputs": [],
   "source": [
    "pasta = pd.read_excel('planilha.xlsx') # Faça a alteração com base nas instruções\n",
    "autores_unicos = pd.read_excel('autores.xlsx') # Faça a alteração com base nas instruções"
   ]
  },
  {
   "source": [
    "Aqui você deverá trocar `'Autoria'` pelo nome da coluna que possui os autores agrupados em sua planilha. <br>\n",
    "Ex.: Caso a coluna que possua os autores agrupados em sua planilha tenha o título `coluna_autores` então o código deverá ficar: <br>\n",
    ">`pasta['coluna_autores'] = pasta['coluna_autores'].str.upper()`"
   ],
   "cell_type": "markdown",
   "metadata": {}
  },
  {
   "cell_type": "code",
   "execution_count": 21,
   "metadata": {},
   "outputs": [],
   "source": [
    "pasta.fillna('none',inplace=True)\n",
    "pasta['Autoria'] = pasta['Autoria'].str.upper() # Faça a alteração com base nas instruções\n",
    "autores_unicos = autores_unicos.iloc[:, 1].to_list()\n"
   ]
  },
  {
   "source": [
    "Aqui você repetirá o passo anterior, trocando `'Autoria'` pelo nome colocado no passo anterior <br>\n",
    "Ex.: Caso código anterior tenha ficado `pasta['coluna_autores'] = pasta['coluna_autores'].str.upper()` <br>\n",
    "então o código abaixo deverá ficar: <br>\n",
    "> `for autor in pasta['coluna_autores']:`"
   ],
   "cell_type": "markdown",
   "metadata": {}
  },
  {
   "cell_type": "code",
   "execution_count": 22,
   "metadata": {},
   "outputs": [],
   "source": [
    "def pegar_relacao_autores(_autor):\n",
    "    lista = []\n",
    "    for autor in pasta['Autoria']: # Faça a alteração com base nas instruções\n",
    "        autores = [x.strip() for x in autor.split(';')]\n",
    "        if _autor in autores:\n",
    "            autores.remove(_autor)\n",
    "            lista += autores\n",
    "    return lista"
   ]
  },
  {
   "cell_type": "code",
   "execution_count": 23,
   "metadata": {
    "tags": []
   },
   "outputs": [
    {
     "output_type": "stream",
     "name": "stderr",
     "text": [
      "<ipython-input-23-17babde1d7f7>:3: DeprecationWarning: The default dtype for empty Series will be 'object' instead of 'float64' in a future version. Specify a dtype explicitly to silence this warning.\n  result = pd.Series(pegar_relacao_autores(autor))\n"
     ]
    }
   ],
   "source": [
    "final_result = pd.DataFrame(columns=['Source', 'Target', 'Weight'])\n",
    "for autor in autores_unicos:\n",
    "    result = pd.Series(pegar_relacao_autores(autor))\n",
    "    count = result.value_counts()[:1]\n",
    "    final_df = pd.DataFrame({'Target': autor, 'Weight': count})\n",
    "    final_df.reset_index(inplace=True)\n",
    "    final_df.rename(columns={'index':'Source'}, inplace=True)\n",
    "    final_result = pd.concat([final_result, final_df], ignore_index=True)\n"
   ]
  },
  {
   "cell_type": "code",
   "execution_count": 24,
   "metadata": {},
   "outputs": [],
   "source": [
    "final_result.to_excel(\"resultado_final.xlsx\")"
   ]
  },
  {
   "cell_type": "code",
   "execution_count": null,
   "metadata": {},
   "outputs": [],
   "source": []
  }
 ]
}